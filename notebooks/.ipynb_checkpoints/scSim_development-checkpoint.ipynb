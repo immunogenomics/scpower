{
 "cells": [
  {
   "cell_type": "markdown",
   "metadata": {},
   "source": [
    "The goal of this notebook is to develop a reworked single cell RNA-seq simulation strategy. As an overall outline for this strategy, we want to:\n",
    "1. Simulate a count-based expression matrix for an individual\n",
    "2. Run simulations for a specified number cases and controls\n",
    "3. Combine the data across individuals and cluster \n",
    "4. test for differential abundance with MASC.\n",
    "\n",
    "The part of the simulation strategy being developd here corresponds to step 1 above. The plan relies using centroids to define populations in low-dimensional space, adjusting the \"position\" of those centroids to account for batch and inter-individual differences, generating low dimensional representations of single cells using the population centroids for each population according to pre-defined frequencies; projecting the cells into high dimensions using gaussians (i.e., cells x low-dimensional -> cells x genes); returning the simulated count matrix with an associated meta_data table."
   ]
  },
  {
   "cell_type": "markdown",
   "metadata": {},
   "source": [
    "Overall flow of the simulation function should look like this:\n",
    "inputs: \n",
    "- 2-dimensional centroids for each cluster\n",
    "- variance in centroid location in each dimension for each cluster \n",
    "- number of genes simulated\n",
    "- number of cells per donor\n",
    "- number of cases\n",
    "- number of controls\n",
    "- number of batches\n",
    "- cluster frequency among cases\n",
    "- cluster frequency among controls\n",
    "\n",
    "outputs:\n",
    "- expression matrix containing all cells (across donors) x genes\n",
    "- metadata table linking each cell to the donor/batch/case-control status\n",
    "- simulation settings readout that reports the initial simulation parameters AND the low-dimensional shifts applied to each donor and each batch"
   ]
  },
  {
   "cell_type": "raw",
   "metadata": {},
   "source": [
    "In pseudocode:\n",
    "simulation_function {\n",
    "    distributeSamples() # create names for donors (cases and controls) and assign to batches randomly\n",
    "    generateShifts() # this can be parameterized to incorporate a given level of batch and donor variance\n",
    "    simulateDonor() { \n",
    "        # Add donor and batch specific shifts to centroids \n",
    "        # Draw cells around these centroids from a mvrnorm, with sds given by input and no covariance\n",
    "    }\n",
    "}"
   ]
  },
  {
   "cell_type": "markdown",
   "metadata": {},
   "source": [
    "# Load libraries"
   ]
  },
  {
   "cell_type": "code",
   "execution_count": null,
   "metadata": {},
   "outputs": [],
   "source": [
    "source(\"/PHShome/cyf0/Projects/scpower/R/libs.R\")\n",
    "source(\"/PHShome/cyf0/Projects/scpower/R/utils.R\")"
   ]
  },
  {
   "cell_type": "markdown",
   "metadata": {},
   "source": [
    "# Donor simulation function"
   ]
  },
  {
   "cell_type": "markdown",
   "metadata": {},
   "source": [
    "This function will have the following inputs:\n",
    "- 2-dimensional centroids for each cluster\n",
    "- variance in centroid location in each dimension for each cluster\n",
    "- number of genes simulated\n",
    "- number of cells per donor\n",
    "- cluster frequencies\n",
    "- batch-specific shift\n",
    "- donor-specific shift\n",
    "\n",
    "The function should return a cells x genes matrix AND a metadata table with cell rows and the following columns\n",
    "- Simulated celltype\n",
    "- donor name (i.e., donor1, donor2)\n",
    "- donor status (i.e., case or control)\n",
    "- batch name (i.e., batch1, batch2)"
   ]
  },
  {
   "cell_type": "code",
   "execution_count": 18,
   "metadata": {},
   "outputs": [],
   "source": [
    "distributeSamples <- function(ncases, nctrls, nbatches) {\n",
    "    # Return a list, where batch has a 2-length vector naming the cases and controls for that batch\n",
    "    batches <- vector(mode = \"list\", length = nbatches)\n",
    "    names(batches) <- paste0(\"batch\", 1:nbatches)\n",
    "    stopifnot(nbatches < ncases)\n",
    "    stopifnot(nbatches < nctrls)\n",
    "    \n",
    "    # Create donor names and distribute to cases and controls\n",
    "    donor_names <- paste0(\"donor\", 1:sum(ncases, nctrls))\n",
    "    case_idx <- sample(length(donor_names), ncases)\n",
    "    case_names <- donor_names[case_idx]\n",
    "    ctrl_names <- donor_names[-case_idx]\n",
    "    \n",
    "    # Check if total number of cases can fit evenly into the number of batches\n",
    "    case_remainder <- ncases %% nbatches\n",
    "    case_per_batch <- floor(ncases/nbatches)\n",
    "    if (case_remainder != 0) {\n",
    "        message(paste0(\"WARNING: \", ncases, \" case samples cannot be evenly distributed into \", nbatches, \" batches, putting remainder in last batch...\"))\n",
    "    } \n",
    "    \n",
    "    # Assign cases to each batch, except for final batch\n",
    "    for (i in 1:(nbatches - 1)) {\n",
    "            case_select <- sample(length(case_names), case_per_batch)\n",
    "            batches[[i]]$cases <- case_names[case_select]\n",
    "            case_names <- case_names[-case_select]\n",
    "    }\n",
    "    # Assign remaining case names to final batch\n",
    "    batches[[nbatches]]$cases <- case_names\n",
    "\n",
    "    # Check if total number of controls can fit evenly into the number of batches\n",
    "    ctrl_remainder <- nctrls %% nbatches\n",
    "    ctrl_per_batch <- floor(nctrls/nbatches)\n",
    "    if (ctrl_remainder != 0) {\n",
    "        message(paste0(\"WARNING: \", nctrls, \" control samples cannot be evenly distributed into \", nbatches, \" batches, putting remainder in last batch...\"))\n",
    "    } \n",
    "    \n",
    "    # Assign cases to each batch, except for final batch\n",
    "    for (i in 1:(nbatches - 1)) {\n",
    "            ctrl_select <- sample(length(ctrl_names), ctrl_per_batch)\n",
    "            batches[[i]]$ctrls <- ctrl_names[ctrl_select]\n",
    "            ctrl_names <- ctrl_names[-ctrl_select]\n",
    "    }\n",
    "    # Assign remaining control names to final batch\n",
    "    batches[[nbatches]]$ctrls <- ctrl_names\n",
    "\n",
    "    return(list(batches = batches,\n",
    "                donor_names = donor_names))\n",
    "}"
   ]
  },
  {
   "cell_type": "code",
   "execution_count": 71,
   "metadata": {},
   "outputs": [],
   "source": [
    "generateShifts <- function(batch_list, nclusters, batch_sd) {\n",
    "    batch_shifts <- lapply(1:length(batch_list), function(x) {\n",
    "        # Generate low-dimensional batch effects from multivariate normal with no covariance between dimensions\n",
    "        shift <- mvrnorm(nclusters, mu = c(0, 0), Sigma = diag(c(batch_sd, batch_sd)))\n",
    "        data.frame(D1 = shift[ ,1], D2 = shift[ ,2])\n",
    "    })\n",
    "    names(batch_shifts) <- names(batch_list)\n",
    "    return(batch_shifts)\n",
    "}"
   ]
  },
  {
   "cell_type": "code",
   "execution_count": 151,
   "metadata": {},
   "outputs": [],
   "source": [
    "simulateDonor <- function(centroid_list, centroid_variance, ngenes, ncells, cluster_frequency, batch_shift, donor_sd, projection) {\n",
    "    nclusters <- nrow(centroid_list)\n",
    "    # Assign cells to clusters\n",
    "    cell_cluster_assignments <- sample(1:nclusters, prob = cluster_frequency, size = ncells, replace = TRUE)\n",
    "    # Generate donor shifts\n",
    "    donor_shift <- mvrnorm(nclusters, mu = c(0, 0), Sigma = diag(c(donor_sd, donor_sd)))\n",
    "    # Adjust cluster centroids for batch and donor noise\n",
    "    adj_centroid <- centroid_list + donor_shift + batch_shift\n",
    "    # Place cells in low-dimensional space, using adjusted cluster centroids and centroid variance for each dim independently\n",
    "    cells_lowD <- cbind(rnorm(n = ncells, \n",
    "                              mean = adj_centroid[cell_cluster_assignments, 1], \n",
    "                              sd = centroid_variance[cell_cluster_assignments, 1]),\n",
    "                        rnorm(n = ncells, \n",
    "                              mean = adj_centroid[cell_cluster_assignments, 2], \n",
    "                              sd = centroid_variance[cell_cluster_assignments, 2]))\n",
    "    # Multiply low-dim cell matrix (cells x lowD) by random gaussian projection matrix transposed (lowD x genes) to get cell x gene expression matrix\n",
    "    exprs <- cells_lowD %*% t(projection)\n",
    "    return(exprs)\n",
    "}"
   ]
  },
  {
   "cell_type": "code",
   "execution_count": null,
   "metadata": {},
   "outputs": [],
   "source": [
    "simulateDataset <- function(centroid_list, centroid_variance, ngenes, ncells, nbatches, ncases, nctrls,\n",
    "                            case_cluster_frequency, ctrl_cluster_frequency, batch_sd, donor_sd) {\n",
    "    # set.seed(seed)\n",
    "    proj <- matrix(rnorm(ngenes*ncells), nrow=ngenes, ncol=2)\n",
    "    nclusters <- nrow(centroid_list)\n",
    "    celltypes <- paste(\"cluster\", 1:nclusters, sep = \"_\")\n",
    "    \n",
    "    # Distribute samples into batches\n",
    "    sampleDist <- distributeSamples(nbatches = nbatches, ncases = ncases, nctrls = nctrls)\n",
    "    \n",
    "    # Generate batch effects\n",
    "    batch_shifts <- generateShifts(batch_list = sampleDist$batches, nclusters = nclusters, batch_sd = batch_sd)\n",
    "    \n",
    "    # Simulate donors by batch\n",
    "    exprs.batches <- lapply(names(sampleDist$batches), function(batch) {\n",
    "        # Simulate cases\n",
    "        cases <- sampleDist$batches[[batch]]$cases\n",
    "        exprs.cases <- do.call('rbind', lapply(cases, function(x) {\n",
    "            simulateDonor(centroid_list, centroid_variance, ngenes, ncells, case_cluster_frequency, batch_shifts[[batch]], donor_sd, projection = proj)\n",
    "        # Simulate controls\n",
    "        ctrls <- sampleDist$batches[[batch]]$ctrls\n",
    "        exprs.ctrls <- do.call('rbind', lapply(ctrls, function(x) {\n",
    "            simulateDonor(centroid_list, centroid_variance, ngenes, ncells, ctrl_cluster_frequency, batch_shifts[[batch]], donor_sd, projection = proj)\n",
    "        # Bind cases and controls together within batch and create metadata table\n",
    "        exprs.batch <- rbind(exprs.cases, exprs.ctrls)\n",
    "        meta.batch <- data.frame(donor = c(rep(cases, each = ncells), rep(ctrls, each = ncells)),\n",
    "                                 status = rep(c(\"case\", \"ctrl\"), times = c((length(cases) * ncells), (length(ctrls) * ncells))),\n",
    "                                 batch = \n",
    "        }))\n",
    "    })\n",
    "    cases <- sapply()\n",
    "    cases_type <- vector(mode = \"list\", length = ncases)\n",
    "    ctrls <- vector(mode = \"list\", length = nctrls)\n",
    "    ctrls_type <- vector(mode = \"list\", length = nctrls)\n",
    "\n",
    "\n",
    "\n",
    "}\n"
   ]
  },
  {
   "cell_type": "code",
   "execution_count": null,
   "metadata": {},
   "outputs": [],
   "source": [
    "(sampleDist <- distributeSamples(nbatches = 4, ncases = 12, nctrls = 12))"
   ]
  },
  {
   "cell_type": "code",
   "execution_count": 201,
   "metadata": {},
   "outputs": [
    {
     "data": {
      "text/html": [
       "<ol class=list-inline>\n",
       "\t<li>'case'</li>\n",
       "\t<li>'case'</li>\n",
       "\t<li>'case'</li>\n",
       "\t<li>'case'</li>\n",
       "\t<li>'case'</li>\n",
       "\t<li>'case'</li>\n",
       "\t<li>'case'</li>\n",
       "\t<li>'case'</li>\n",
       "\t<li>'case'</li>\n",
       "\t<li>'case'</li>\n",
       "\t<li>'case'</li>\n",
       "\t<li>'case'</li>\n",
       "\t<li>'case'</li>\n",
       "\t<li>'case'</li>\n",
       "\t<li>'case'</li>\n",
       "\t<li>'case'</li>\n",
       "\t<li>'case'</li>\n",
       "\t<li>'case'</li>\n",
       "\t<li>'case'</li>\n",
       "\t<li>'case'</li>\n",
       "\t<li>'case'</li>\n",
       "\t<li>'case'</li>\n",
       "\t<li>'case'</li>\n",
       "\t<li>'case'</li>\n",
       "\t<li>'case'</li>\n",
       "\t<li>'case'</li>\n",
       "\t<li>'case'</li>\n",
       "\t<li>'case'</li>\n",
       "\t<li>'case'</li>\n",
       "\t<li>'case'</li>\n",
       "\t<li>'ctrl'</li>\n",
       "\t<li>'ctrl'</li>\n",
       "\t<li>'ctrl'</li>\n",
       "\t<li>'ctrl'</li>\n",
       "\t<li>'ctrl'</li>\n",
       "\t<li>'ctrl'</li>\n",
       "\t<li>'ctrl'</li>\n",
       "\t<li>'ctrl'</li>\n",
       "\t<li>'ctrl'</li>\n",
       "\t<li>'ctrl'</li>\n",
       "\t<li>'ctrl'</li>\n",
       "\t<li>'ctrl'</li>\n",
       "\t<li>'ctrl'</li>\n",
       "\t<li>'ctrl'</li>\n",
       "\t<li>'ctrl'</li>\n",
       "\t<li>'ctrl'</li>\n",
       "\t<li>'ctrl'</li>\n",
       "\t<li>'ctrl'</li>\n",
       "\t<li>'ctrl'</li>\n",
       "\t<li>'ctrl'</li>\n",
       "\t<li>'ctrl'</li>\n",
       "\t<li>'ctrl'</li>\n",
       "\t<li>'ctrl'</li>\n",
       "\t<li>'ctrl'</li>\n",
       "\t<li>'ctrl'</li>\n",
       "\t<li>'ctrl'</li>\n",
       "\t<li>'ctrl'</li>\n",
       "\t<li>'ctrl'</li>\n",
       "\t<li>'ctrl'</li>\n",
       "\t<li>'ctrl'</li>\n",
       "</ol>\n"
      ],
      "text/latex": [
       "\\begin{enumerate*}\n",
       "\\item 'case'\n",
       "\\item 'case'\n",
       "\\item 'case'\n",
       "\\item 'case'\n",
       "\\item 'case'\n",
       "\\item 'case'\n",
       "\\item 'case'\n",
       "\\item 'case'\n",
       "\\item 'case'\n",
       "\\item 'case'\n",
       "\\item 'case'\n",
       "\\item 'case'\n",
       "\\item 'case'\n",
       "\\item 'case'\n",
       "\\item 'case'\n",
       "\\item 'case'\n",
       "\\item 'case'\n",
       "\\item 'case'\n",
       "\\item 'case'\n",
       "\\item 'case'\n",
       "\\item 'case'\n",
       "\\item 'case'\n",
       "\\item 'case'\n",
       "\\item 'case'\n",
       "\\item 'case'\n",
       "\\item 'case'\n",
       "\\item 'case'\n",
       "\\item 'case'\n",
       "\\item 'case'\n",
       "\\item 'case'\n",
       "\\item 'ctrl'\n",
       "\\item 'ctrl'\n",
       "\\item 'ctrl'\n",
       "\\item 'ctrl'\n",
       "\\item 'ctrl'\n",
       "\\item 'ctrl'\n",
       "\\item 'ctrl'\n",
       "\\item 'ctrl'\n",
       "\\item 'ctrl'\n",
       "\\item 'ctrl'\n",
       "\\item 'ctrl'\n",
       "\\item 'ctrl'\n",
       "\\item 'ctrl'\n",
       "\\item 'ctrl'\n",
       "\\item 'ctrl'\n",
       "\\item 'ctrl'\n",
       "\\item 'ctrl'\n",
       "\\item 'ctrl'\n",
       "\\item 'ctrl'\n",
       "\\item 'ctrl'\n",
       "\\item 'ctrl'\n",
       "\\item 'ctrl'\n",
       "\\item 'ctrl'\n",
       "\\item 'ctrl'\n",
       "\\item 'ctrl'\n",
       "\\item 'ctrl'\n",
       "\\item 'ctrl'\n",
       "\\item 'ctrl'\n",
       "\\item 'ctrl'\n",
       "\\item 'ctrl'\n",
       "\\end{enumerate*}\n"
      ],
      "text/markdown": [
       "1. 'case'\n",
       "2. 'case'\n",
       "3. 'case'\n",
       "4. 'case'\n",
       "5. 'case'\n",
       "6. 'case'\n",
       "7. 'case'\n",
       "8. 'case'\n",
       "9. 'case'\n",
       "10. 'case'\n",
       "11. 'case'\n",
       "12. 'case'\n",
       "13. 'case'\n",
       "14. 'case'\n",
       "15. 'case'\n",
       "16. 'case'\n",
       "17. 'case'\n",
       "18. 'case'\n",
       "19. 'case'\n",
       "20. 'case'\n",
       "21. 'case'\n",
       "22. 'case'\n",
       "23. 'case'\n",
       "24. 'case'\n",
       "25. 'case'\n",
       "26. 'case'\n",
       "27. 'case'\n",
       "28. 'case'\n",
       "29. 'case'\n",
       "30. 'case'\n",
       "31. 'ctrl'\n",
       "32. 'ctrl'\n",
       "33. 'ctrl'\n",
       "34. 'ctrl'\n",
       "35. 'ctrl'\n",
       "36. 'ctrl'\n",
       "37. 'ctrl'\n",
       "38. 'ctrl'\n",
       "39. 'ctrl'\n",
       "40. 'ctrl'\n",
       "41. 'ctrl'\n",
       "42. 'ctrl'\n",
       "43. 'ctrl'\n",
       "44. 'ctrl'\n",
       "45. 'ctrl'\n",
       "46. 'ctrl'\n",
       "47. 'ctrl'\n",
       "48. 'ctrl'\n",
       "49. 'ctrl'\n",
       "50. 'ctrl'\n",
       "51. 'ctrl'\n",
       "52. 'ctrl'\n",
       "53. 'ctrl'\n",
       "54. 'ctrl'\n",
       "55. 'ctrl'\n",
       "56. 'ctrl'\n",
       "57. 'ctrl'\n",
       "58. 'ctrl'\n",
       "59. 'ctrl'\n",
       "60. 'ctrl'\n",
       "\n",
       "\n"
      ],
      "text/plain": [
       " [1] \"case\" \"case\" \"case\" \"case\" \"case\" \"case\" \"case\" \"case\" \"case\" \"case\"\n",
       "[11] \"case\" \"case\" \"case\" \"case\" \"case\" \"case\" \"case\" \"case\" \"case\" \"case\"\n",
       "[21] \"case\" \"case\" \"case\" \"case\" \"case\" \"case\" \"case\" \"case\" \"case\" \"case\"\n",
       "[31] \"ctrl\" \"ctrl\" \"ctrl\" \"ctrl\" \"ctrl\" \"ctrl\" \"ctrl\" \"ctrl\" \"ctrl\" \"ctrl\"\n",
       "[41] \"ctrl\" \"ctrl\" \"ctrl\" \"ctrl\" \"ctrl\" \"ctrl\" \"ctrl\" \"ctrl\" \"ctrl\" \"ctrl\"\n",
       "[51] \"ctrl\" \"ctrl\" \"ctrl\" \"ctrl\" \"ctrl\" \"ctrl\" \"ctrl\" \"ctrl\" \"ctrl\" \"ctrl\""
      ]
     },
     "metadata": {},
     "output_type": "display_data"
    }
   ],
   "source": [
    "cases <- sampleDist$batches[[batch]]$cases\n",
    "ctrls <- sampleDist$batches[[batch]]$ctrls\n",
    "rep(c(\"case\", \"ctrl\"), times = c((length(cases) * ncells), (length(ctrls) * ncells)))\n"
   ]
  },
  {
   "cell_type": "code",
   "execution_count": 186,
   "metadata": {},
   "outputs": [],
   "source": [
    "case_cluster_frequency <- c(0.2, 0.3, 0.5)"
   ]
  },
  {
   "cell_type": "code",
   "execution_count": 188,
   "metadata": {},
   "outputs": [
    {
     "name": "stdout",
     "output_type": "stream",
     "text": [
      "List of 4\n",
      " $ : num [1:30, 1:100] 1.84 2.39 2.876 0.437 5.583 ...\n",
      " $ : num [1:30, 1:100] 6.744 -0.683 -3.54 1.28 -8.165 ...\n",
      " $ : num [1:30, 1:100] 5.03 -2.18 -2.07 9.13 3.27 ...\n",
      " $ : num [1:30, 1:100] 1.55 5.02 4.89 1.35 -1.97 ...\n"
     ]
    }
   ],
   "source": [
    "exprs.batches <- lapply(names(sampleDist$batches), function(batch) {\n",
    "        # Simulate cases\n",
    "        cases <- sampleDist$batches[[batch]]$cases\n",
    "        exprs.cases <- do.call('rbind', lapply(cases, function(x) {\n",
    "            simulateDonor(centroid_list, centroid_variance, ngenes, ncells, case_cluster_frequency, batch_shifts[[batch]], donor_sd, projection = proj)\n",
    "        }))\n",
    "    exprs.cases\n",
    "    })\n",
    "str(exprs.batches, max.level = 1)"
   ]
  },
  {
   "cell_type": "code",
   "execution_count": 175,
   "metadata": {},
   "outputs": [
    {
     "data": {
      "text/html": [
       "<table>\n",
       "<thead><tr><th scope=col>D1</th><th scope=col>D2</th></tr></thead>\n",
       "<tbody>\n",
       "\t<tr><td>-0.20135626</td><td>0.3878549  </td></tr>\n",
       "\t<tr><td>-0.11484268</td><td>0.2192494  </td></tr>\n",
       "\t<tr><td>-0.05406482</td><td>0.1641180  </td></tr>\n",
       "</tbody>\n",
       "</table>\n"
      ],
      "text/latex": [
       "\\begin{tabular}{r|ll}\n",
       " D1 & D2\\\\\n",
       "\\hline\n",
       "\t -0.20135626 & 0.3878549  \\\\\n",
       "\t -0.11484268 & 0.2192494  \\\\\n",
       "\t -0.05406482 & 0.1641180  \\\\\n",
       "\\end{tabular}\n"
      ],
      "text/markdown": [
       "\n",
       "D1 | D2 | \n",
       "|---|---|---|\n",
       "| -0.20135626 | 0.3878549   | \n",
       "| -0.11484268 | 0.2192494   | \n",
       "| -0.05406482 | 0.1641180   | \n",
       "\n",
       "\n"
      ],
      "text/plain": [
       "  D1          D2       \n",
       "1 -0.20135626 0.3878549\n",
       "2 -0.11484268 0.2192494\n",
       "3 -0.05406482 0.1641180"
      ]
     },
     "metadata": {},
     "output_type": "display_data"
    }
   ],
   "source": [
    "batch <- names(batch_list)[1]\n",
    "batch_shifts[[batch]]"
   ]
  },
  {
   "cell_type": "markdown",
   "metadata": {},
   "source": [
    "# Scratch development"
   ]
  },
  {
   "cell_type": "markdown",
   "metadata": {},
   "source": [
    "Let's create a couple cluster centroids in low-dimensional space"
   ]
  },
  {
   "cell_type": "code",
   "execution_count": 74,
   "metadata": {},
   "outputs": [
    {
     "data": {
      "text/html": [
       "<table>\n",
       "<thead><tr><th scope=col>X</th><th scope=col>Y</th><th scope=col>cluster</th></tr></thead>\n",
       "<tbody>\n",
       "\t<tr><td>3.1001882</td><td>5.0580659</td><td>1        </td></tr>\n",
       "\t<tr><td>2.9680917</td><td>2.1634273</td><td>1        </td></tr>\n",
       "\t<tr><td>1.6828619</td><td>2.6506431</td><td>1        </td></tr>\n",
       "\t<tr><td>0.8595873</td><td>0.9705874</td><td>1        </td></tr>\n",
       "\t<tr><td>3.8690286</td><td>2.1205758</td><td>1        </td></tr>\n",
       "\t<tr><td>3.6070880</td><td>1.1876910</td><td>1        </td></tr>\n",
       "</tbody>\n",
       "</table>\n"
      ],
      "text/latex": [
       "\\begin{tabular}{r|lll}\n",
       " X & Y & cluster\\\\\n",
       "\\hline\n",
       "\t 3.1001882 & 5.0580659 & 1        \\\\\n",
       "\t 2.9680917 & 2.1634273 & 1        \\\\\n",
       "\t 1.6828619 & 2.6506431 & 1        \\\\\n",
       "\t 0.8595873 & 0.9705874 & 1        \\\\\n",
       "\t 3.8690286 & 2.1205758 & 1        \\\\\n",
       "\t 3.6070880 & 1.1876910 & 1        \\\\\n",
       "\\end{tabular}\n"
      ],
      "text/markdown": [
       "\n",
       "X | Y | cluster | \n",
       "|---|---|---|---|---|---|\n",
       "| 3.1001882 | 5.0580659 | 1         | \n",
       "| 2.9680917 | 2.1634273 | 1         | \n",
       "| 1.6828619 | 2.6506431 | 1         | \n",
       "| 0.8595873 | 0.9705874 | 1         | \n",
       "| 3.8690286 | 2.1205758 | 1         | \n",
       "| 3.6070880 | 1.1876910 | 1         | \n",
       "\n",
       "\n"
      ],
      "text/plain": [
       "  X         Y         cluster\n",
       "1 3.1001882 5.0580659 1      \n",
       "2 2.9680917 2.1634273 1      \n",
       "3 1.6828619 2.6506431 1      \n",
       "4 0.8595873 0.9705874 1      \n",
       "5 3.8690286 2.1205758 1      \n",
       "6 3.6070880 1.1876910 1      "
      ]
     },
     "metadata": {},
     "output_type": "display_data"
    }
   ],
   "source": [
    "scratch_clusters <- rbind(data.frame(mvrnorm(n = 100, mu = c(2, 2), Sigma = matrix(c(1, 0, 0, 1), 2, 2))),\n",
    "                          data.frame(mvrnorm(n = 100, mu = c(0, 0), Sigma = matrix(c(1, 0, 0, 1), 2, 2))),\n",
    "                          data.frame(mvrnorm(n = 100, mu = c(-2, -2), Sigma = matrix(c(1, 0, 0, 1), 2, 2))))\n",
    "scratch_clusters$cluster <- as.character(rep(1:3, each = 100))\n",
    "colnames(scratch_clusters) <- c(\"X\", \"Y\", \"cluster\")\n",
    "scratch_clusters  %>% head"
   ]
  },
  {
   "cell_type": "code",
   "execution_count": 75,
   "metadata": {},
   "outputs": [
    {
     "data": {},
     "metadata": {},
     "output_type": "display_data"
    },
    {
     "data": {
      "image/png": "[encoded data removed]",
      "text/plain": [
       "plot without title"
      ]
     },
     "metadata": {},
     "output_type": "display_data"
    }
   ],
   "source": [
    "scratch_clusters %>%\n",
    "    ggplot(aes(x = X, y = Y)) +\n",
    "    geom_point(shape = 21, aes(color = cluster)) +\n",
    "    theme_bw()"
   ]
  },
  {
   "cell_type": "markdown",
   "metadata": {},
   "source": [
    "Let's calculate a 2-dimensional centroid for each cluster, as well as the cluster-specific variance in each dimension"
   ]
  },
  {
   "cell_type": "code",
   "execution_count": 149,
   "metadata": {},
   "outputs": [
    {
     "data": {
      "text/html": [
       "<table>\n",
       "<thead><tr><th scope=col>D1.mean</th><th scope=col>D2.mean</th></tr></thead>\n",
       "<tbody>\n",
       "\t<tr><td> 2.083833215</td><td> 2.067920775</td></tr>\n",
       "\t<tr><td>-0.002293828</td><td>-0.006841137</td></tr>\n",
       "\t<tr><td>-1.880876159</td><td>-1.932569194</td></tr>\n",
       "</tbody>\n",
       "</table>\n"
      ],
      "text/latex": [
       "\\begin{tabular}{r|ll}\n",
       " D1.mean & D2.mean\\\\\n",
       "\\hline\n",
       "\t  2.083833215 &  2.067920775\\\\\n",
       "\t -0.002293828 & -0.006841137\\\\\n",
       "\t -1.880876159 & -1.932569194\\\\\n",
       "\\end{tabular}\n"
      ],
      "text/markdown": [
       "\n",
       "D1.mean | D2.mean | \n",
       "|---|---|---|\n",
       "|  2.083833215 |  2.067920775 | \n",
       "| -0.002293828 | -0.006841137 | \n",
       "| -1.880876159 | -1.932569194 | \n",
       "\n",
       "\n"
      ],
      "text/plain": [
       "  D1.mean      D2.mean     \n",
       "1  2.083833215  2.067920775\n",
       "2 -0.002293828 -0.006841137\n",
       "3 -1.880876159 -1.932569194"
      ]
     },
     "metadata": {},
     "output_type": "display_data"
    },
    {
     "data": {
      "text/html": [
       "<table>\n",
       "<thead><tr><th scope=col>D1.sd</th><th scope=col>D2.sd</th></tr></thead>\n",
       "<tbody>\n",
       "\t<tr><td>1.0003371</td><td>1.1668578</td></tr>\n",
       "\t<tr><td>0.9671319</td><td>0.9295586</td></tr>\n",
       "\t<tr><td>0.9846412</td><td>0.9685099</td></tr>\n",
       "</tbody>\n",
       "</table>\n"
      ],
      "text/latex": [
       "\\begin{tabular}{r|ll}\n",
       " D1.sd & D2.sd\\\\\n",
       "\\hline\n",
       "\t 1.0003371 & 1.1668578\\\\\n",
       "\t 0.9671319 & 0.9295586\\\\\n",
       "\t 0.9846412 & 0.9685099\\\\\n",
       "\\end{tabular}\n"
      ],
      "text/markdown": [
       "\n",
       "D1.sd | D2.sd | \n",
       "|---|---|---|\n",
       "| 1.0003371 | 1.1668578 | \n",
       "| 0.9671319 | 0.9295586 | \n",
       "| 0.9846412 | 0.9685099 | \n",
       "\n",
       "\n"
      ],
      "text/plain": [
       "  D1.sd     D2.sd    \n",
       "1 1.0003371 1.1668578\n",
       "2 0.9671319 0.9295586\n",
       "3 0.9846412 0.9685099"
      ]
     },
     "metadata": {},
     "output_type": "display_data"
    }
   ],
   "source": [
    "centroid_list <- scratch_clusters %>% \n",
    "    group_by(cluster) %>%\n",
    "    summarise(D1.mean = mean(X),\n",
    "              D2.mean = mean(Y)) %>%\n",
    "    dplyr::select(-cluster)\n",
    "centroid_list\n",
    "centroid_variance <- scratch_clusters %>% \n",
    "    group_by(cluster) %>%\n",
    "    summarise(D1.sd = sd(X),\n",
    "              D2.sd = sd(Y)) %>%\n",
    "    dplyr::select(-cluster) %>% as.data.frame\n",
    "centroid_variance"
   ]
  },
  {
   "cell_type": "markdown",
   "metadata": {},
   "source": [
    "Overall flow of the simulation function should look like this:\n",
    "inputs: \n",
    "- 2-dimensional centroids for each cluster\n",
    "- variance in centroid location in each dimension for each cluster \n",
    "- number of genes simulated\n",
    "- number of cells per donor\n",
    "- number of cases\n",
    "- number of controls\n",
    "- number of batches\n",
    "- cluster frequency among cases\n",
    "- cluster frequency among controls"
   ]
  },
  {
   "cell_type": "markdown",
   "metadata": {},
   "source": [
    "Now, let's create a function that takes in a list of centroids, a donor-specific variance term or a batch-specific variance term. The function will then adjust the centroids by adding batch or donor-specific noise (calculated from a mean 0 gaussian and with variance given by the aforementioned terms) and return the new centroids."
   ]
  },
  {
   "cell_type": "code",
   "execution_count": 51,
   "metadata": {},
   "outputs": [],
   "source": [
    "# Assume centroids are given as a matrix of n centroids by p dimensions\n",
    "# Assume variance terms are standardized (standard deviations)\n",
    "\n",
    "addBatchCentroids <- function(centroids, donor_variance, batch_variance) {\n",
    "    lapply(1:ncol(centroids), function(k) {\n",
    "        donor_noise <- rnorm(n = 1, mean = 0, sd = donor_variance)\n",
    "        batch_noise <- rnorm(n = 1, mean = 0, sd = batch_variance)\n",
    "        centroids[, k] + batch_noise + donor_noise\n",
    "    })\n",
    "}"
   ]
  },
  {
   "cell_type": "code",
   "execution_count": 69,
   "metadata": {},
   "outputs": [
    {
     "data": {
      "text/html": [
       "<ol>\n",
       "\t<li><table>\n",
       "<thead><tr><th scope=col>x.mean</th></tr></thead>\n",
       "<tbody>\n",
       "\t<tr><td> 3.616984</td></tr>\n",
       "\t<tr><td>-0.468802</td></tr>\n",
       "\t<tr><td>-4.708053</td></tr>\n",
       "</tbody>\n",
       "</table>\n",
       "</li>\n",
       "\t<li><table>\n",
       "<thead><tr><th scope=col>y.mean</th></tr></thead>\n",
       "<tbody>\n",
       "\t<tr><td> 3.3908842</td></tr>\n",
       "\t<tr><td>-0.8056385</td></tr>\n",
       "\t<tr><td>-4.8077363</td></tr>\n",
       "</tbody>\n",
       "</table>\n",
       "</li>\n",
       "</ol>\n"
      ],
      "text/latex": [
       "\\begin{enumerate}\n",
       "\\item \\begin{tabular}{r|l}\n",
       " x.mean\\\\\n",
       "\\hline\n",
       "\t  3.616984\\\\\n",
       "\t -0.468802\\\\\n",
       "\t -4.708053\\\\\n",
       "\\end{tabular}\n",
       "\n",
       "\\item \\begin{tabular}{r|l}\n",
       " y.mean\\\\\n",
       "\\hline\n",
       "\t  3.3908842\\\\\n",
       "\t -0.8056385\\\\\n",
       "\t -4.8077363\\\\\n",
       "\\end{tabular}\n",
       "\n",
       "\\end{enumerate}\n"
      ],
      "text/markdown": [
       "1. \n",
       "x.mean | \n",
       "|---|---|---|\n",
       "|  3.616984 | \n",
       "| -0.468802 | \n",
       "| -4.708053 | \n",
       "\n",
       "\n",
       "\n",
       "2. \n",
       "y.mean | \n",
       "|---|---|---|\n",
       "|  3.3908842 | \n",
       "| -0.8056385 | \n",
       "| -4.8077363 | \n",
       "\n",
       "\n",
       "\n",
       "\n",
       "\n"
      ],
      "text/plain": [
       "[[1]]\n",
       "     x.mean\n",
       "1  3.616984\n",
       "2 -0.468802\n",
       "3 -4.708053\n",
       "\n",
       "[[2]]\n",
       "      y.mean\n",
       "1  3.3908842\n",
       "2 -0.8056385\n",
       "3 -4.8077363\n"
      ]
     },
     "metadata": {},
     "output_type": "display_data"
    }
   ],
   "source": [
    "adjCentroids(centroids[, 2:3], 1, 0)"
   ]
  },
  {
   "cell_type": "code",
   "execution_count": 54,
   "metadata": {},
   "outputs": [
    {
     "data": {
      "text/html": [
       "2"
      ],
      "text/latex": [
       "2"
      ],
      "text/markdown": [
       "2"
      ],
      "text/plain": [
       "[1] 2"
      ]
     },
     "metadata": {},
     "output_type": "display_data"
    }
   ],
   "source": [
    "ncol(centroids[, 1:2])"
   ]
  },
  {
   "cell_type": "code",
   "execution_count": 55,
   "metadata": {},
   "outputs": [],
   "source": [
    "        donor_noise <- rnorm(n = 1, mean = 0, sd = 1)\n",
    "        batch_noise <- rnorm(n = 1, mean = 0, sd = 0)"
   ]
  },
  {
   "cell_type": "code",
   "execution_count": 64,
   "metadata": {},
   "outputs": [
    {
     "data": {
      "text/html": [
       "<table>\n",
       "<thead><tr><th scope=col>y.mean</th></tr></thead>\n",
       "<tbody>\n",
       "\t<tr><td> 4.7527593</td></tr>\n",
       "\t<tr><td> 0.5562367</td></tr>\n",
       "\t<tr><td>-3.4458611</td></tr>\n",
       "</tbody>\n",
       "</table>\n"
      ],
      "text/latex": [
       "\\begin{tabular}{r|l}\n",
       " y.mean\\\\\n",
       "\\hline\n",
       "\t  4.7527593\\\\\n",
       "\t  0.5562367\\\\\n",
       "\t -3.4458611\\\\\n",
       "\\end{tabular}\n"
      ],
      "text/markdown": [
       "\n",
       "y.mean | \n",
       "|---|---|---|\n",
       "|  4.7527593 | \n",
       "|  0.5562367 | \n",
       "| -3.4458611 | \n",
       "\n",
       "\n"
      ],
      "text/plain": [
       "  y.mean    \n",
       "1  4.7527593\n",
       "2  0.5562367\n",
       "3 -3.4458611"
      ]
     },
     "metadata": {},
     "output_type": "display_data"
    }
   ],
   "source": [
    "centroids[ ,2:3][, 2] + donor_noise + batch_noise"
   ]
  }
 ],
 "metadata": {
  "kernelspec": {
   "display_name": "R",
   "language": "R",
   "name": "ir"
  },
  "language_info": {
   "codemirror_mode": "r",
   "file_extension": ".r",
   "mimetype": "text/x-r-source",
   "name": "R",
   "pygments_lexer": "r",
   "version": "3.4.0"
  }
 },
 "nbformat": 4,
 "nbformat_minor": 2
}
