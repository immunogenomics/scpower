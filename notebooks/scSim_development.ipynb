{
 "cells": [
  {
   "cell_type": "markdown",
   "metadata": {},
   "source": [
    "The goal of this notebook is to develop a reworked single cell RNA-seq simulation strategy. As an overall outline for this strategy, we want to:\n",
    "1. Simulate a count-based expression matrix for an individual\n",
    "2. Run simulations for a specified number cases and controls\n",
    "3. Combine the data across individuals and cluster \n",
    "4. test for differential abundance with MASC.\n",
    "\n",
    "The part of the simulation strategy being developd here corresponds to step 1 above. The plan relies using centroids to define populations in low-dimensional space, adjusting the \"position\" of those centroids to account for batch and inter-individual differences, generating low dimensional representations of single cells using the population centroids for each population according to pre-defined frequencies; projecting the cells into high dimensions using gaussians (i.e., cells x low-dimensional -> cells x genes); returning the simulated count matrix with an associated meta_data table."
   ]
  },
  {
   "cell_type": "code",
   "execution_count": null,
   "metadata": {},
   "outputs": [],
   "source": []
  }
 ],
 "metadata": {
  "kernelspec": {
   "display_name": "R",
   "language": "R",
   "name": "ir"
  },
  "language_info": {
   "codemirror_mode": "r",
   "file_extension": ".r",
   "mimetype": "text/x-r-source",
   "name": "R",
   "pygments_lexer": "r",
   "version": "3.4.0"
  }
 },
 "nbformat": 4,
 "nbformat_minor": 2
}
