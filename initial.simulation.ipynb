{
 "cells": [
  {
   "cell_type": "markdown",
   "metadata": {},
   "source": [
    "# Load libraries and source files"
   ]
  },
  {
   "cell_type": "code",
   "execution_count": 9,
   "metadata": {},
   "outputs": [
    {
     "name": "stderr",
     "output_type": "stream",
     "text": [
      "Loading required package: tidyverse\n",
      "── Attaching packages ─────────────────────────────────────── tidyverse 1.2.1 ──\n",
      "✔ ggplot2 3.0.0     ✔ purrr   0.2.5\n",
      "✔ tibble  1.4.2     ✔ dplyr   0.7.6\n",
      "✔ tidyr   0.8.1     ✔ stringr 1.3.1\n",
      "✔ readr   1.1.1     ✔ forcats 0.3.0\n",
      "── Conflicts ────────────────────────────────────────── tidyverse_conflicts() ──\n",
      "✖ dplyr::filter() masks stats::filter()\n",
      "✖ dplyr::lag()    masks stats::lag()\n",
      "Loading required package: MASS\n",
      "\n",
      "Attaching package: ‘MASS’\n",
      "\n",
      "The following object is masked from ‘package:dplyr’:\n",
      "\n",
      "    select\n",
      "\n",
      "Loading required package: data.table\n",
      "\n",
      "Attaching package: ‘data.table’\n",
      "\n",
      "The following objects are masked from ‘package:dplyr’:\n",
      "\n",
      "    between, first, last\n",
      "\n",
      "The following object is masked from ‘package:purrr’:\n",
      "\n",
      "    transpose\n",
      "\n",
      "Loading required package: magrittr\n",
      "\n",
      "Attaching package: ‘magrittr’\n",
      "\n",
      "The following object is masked from ‘package:purrr’:\n",
      "\n",
      "    set_names\n",
      "\n",
      "The following object is masked from ‘package:tidyr’:\n",
      "\n",
      "    extract\n",
      "\n"
     ]
    }
   ],
   "source": [
    "require(tidyverse)\n",
    "source(\"src/simulation.libs.R\")"
   ]
  },
  {
   "cell_type": "markdown",
   "metadata": {},
   "source": [
    "Set up function for dispatching jobs"
   ]
  },
  {
   "cell_type": "code",
   "execution_count": 10,
   "metadata": {},
   "outputs": [],
   "source": [
    "runSimChunk <- function(save, param, rep, email = F) {\n",
    "    # Create output filename\n",
    "    outName <- paste0(\"sim\", param[\"cells\"], \"cells_\", param[\"donors\"], \"donors_\", param[\"foldchange\"], \"foldchange_\", \"rep\", rep, \".rds\")\n",
    "    if(email == T){\n",
    "        apply(param, 1, function(x) {\n",
    "            str <- paste0('bsub -q short Rscript src/simulateCells.R', \n",
    "            ' --ndonors ', x['donors'], \n",
    "            ' --ncells ', x['cells'], \n",
    "            ' --foldchange ', x['foldchange'],\n",
    "            ' --filename ', outName,\n",
    "            ' -o ', save)\n",
    "            system(str)\n",
    "        })\n",
    "    } else {\n",
    "        apply(param, 1, function(x) {\n",
    "            str <- paste0('LSB_JOB_REPORT_MAIL=N bsub -q short Rscript src/simulateCells.R', \n",
    "            ' --ndonors ', x['donors'], \n",
    "            ' --ncells ', x['cells'], \n",
    "            ' --foldchange ', x['foldchange'], \n",
    "            ' --filename ', outName,\n",
    "            ' -o ', save)\n",
    "            system(str)\n",
    "        })\n",
    "    }   \n",
    "}"
   ]
  },
  {
   "cell_type": "markdown",
   "metadata": {},
   "source": [
    "# Set up test parameter seach space"
   ]
  },
  {
   "cell_type": "code",
   "execution_count": 11,
   "metadata": {},
   "outputs": [],
   "source": [
    "donors <- c(50, 100)\n",
    "cells <- 1000\n",
    "foldchange <- c(1.5, 2)\n",
    "\n",
    "params <- expand.grid(donors, cells, foldchange)\n",
    "names(params) <- c(\"donors\", \"cells\", \"foldchange\")"
   ]
  },
  {
   "cell_type": "markdown",
   "metadata": {},
   "source": [
    "# Simulate data from parameter settings, using replicates"
   ]
  },
  {
   "cell_type": "code",
   "execution_count": 33,
   "metadata": {},
   "outputs": [
    {
     "ename": "ERROR",
     "evalue": "Error in sleep(60): could not find function \"sleep\"\n",
     "output_type": "error",
     "traceback": [
      "Error in sleep(60): could not find function \"sleep\"\nTraceback:\n"
     ]
    }
   ],
   "source": [
    "for (i in 1:nrow(params)) {\n",
    "    setting <- params[i,]\n",
    "    for (k in 1:replicates) {\n",
    "        runSimChunk(save = \"test\", param = setting, rep = k, email = F)\n",
    "    }\n",
    "    while (length(system(\"bjobs\", intern=T)) != 0) {\n",
    "        sleep(60)\n",
    "    }\n",
    "}"
   ]
  },
  {
   "cell_type": "code",
   "execution_count": 32,
   "metadata": {},
   "outputs": [
    {
     "data": {
      "text/html": [
       "<table>\n",
       "<thead><tr><th scope=col>donors</th><th scope=col>cells</th><th scope=col>foldchange</th></tr></thead>\n",
       "<tbody>\n",
       "\t<tr><td> 50 </td><td>1000</td><td>1.5 </td></tr>\n",
       "\t<tr><td>100 </td><td>1000</td><td>1.5 </td></tr>\n",
       "\t<tr><td> 50 </td><td>1000</td><td>2.0 </td></tr>\n",
       "\t<tr><td>100 </td><td>1000</td><td>2.0 </td></tr>\n",
       "</tbody>\n",
       "</table>\n"
      ],
      "text/latex": [
       "\\begin{tabular}{r|lll}\n",
       " donors & cells & foldchange\\\\\n",
       "\\hline\n",
       "\t  50  & 1000 & 1.5 \\\\\n",
       "\t 100  & 1000 & 1.5 \\\\\n",
       "\t  50  & 1000 & 2.0 \\\\\n",
       "\t 100  & 1000 & 2.0 \\\\\n",
       "\\end{tabular}\n"
      ],
      "text/markdown": [
       "\n",
       "donors | cells | foldchange | \n",
       "|---|---|---|---|\n",
       "|  50  | 1000 | 1.5  | \n",
       "| 100  | 1000 | 1.5  | \n",
       "|  50  | 1000 | 2.0  | \n",
       "| 100  | 1000 | 2.0  | \n",
       "\n",
       "\n"
      ],
      "text/plain": [
       "  donors cells foldchange\n",
       "1  50    1000  1.5       \n",
       "2 100    1000  1.5       \n",
       "3  50    1000  2.0       \n",
       "4 100    1000  2.0       "
      ]
     },
     "metadata": {},
     "output_type": "display_data"
    }
   ],
   "source": [
    "params"
   ]
  },
  {
   "cell_type": "code",
   "execution_count": null,
   "metadata": {},
   "outputs": [],
   "source": []
  }
 ],
 "metadata": {
  "kernelspec": {
   "display_name": "R",
   "language": "R",
   "name": "ir"
  },
  "language_info": {
   "codemirror_mode": "r",
   "file_extension": ".r",
   "mimetype": "text/x-r-source",
   "name": "R",
   "pygments_lexer": "r",
   "version": "3.4.0"
  }
 },
 "nbformat": 4,
 "nbformat_minor": 2
}
